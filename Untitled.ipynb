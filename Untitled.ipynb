{
 "cells": [
  {
   "cell_type": "code",
   "execution_count": null,
   "id": "6d493411-b725-47d0-bc5a-a40d02dfe309",
   "metadata": {},
   "outputs": [],
   "source": [
    "# This Python 3 environment comes with many helpful analytics libraries installed\n",
    "# It is defined by the kaggle/python Docker image: https://github.com/kaggle/docker-python\n",
    "# For example, here's several helpful packages to load\n",
    "\n",
    "import numpy as np # linear algebra\n",
    "import pandas as pd # data processing, CSV file I/O (e.g. pd.read_csv)\n",
    "import seaborn as sns\n",
    "import matplotlib.pyplot as plt\n",
    "import warnings\n",
    "warnings.filterwarnings(\"ignore\")\n",
    "# Input data files are available in the read-only \"../input/\" directory\n",
    "# For example, running this (by clicking run or pressing Shift+Enter) will list all files under the input directory\n",
    "\n",
    "import os\n",
    "for dirname, _, filenames in os.walk('/kaggle/input'):\n",
    "    for filename in filenames:\n",
    "        print(os.path.join(dirname, filename))\n",
    "\n",
    "# You can write up to 20GB to the current directory (/kaggle/working/) that gets preserved as output when you create a version using \"Save & Run All\" \n",
    "# You can also write temporary files to /kaggle/temp/, but they won't be saved outside of the current session"
   ]
  },
  {
   "cell_type": "code",
   "execution_count": null,
   "id": "e3b30e14-4173-405b-8e3f-eac7d2857170",
   "metadata": {},
   "outputs": [],
   "source": [
    "df = pd.read_csv(\"Electric_Vehicle_Population_Data.csv\")"
   ]
  },
  {
   "cell_type": "code",
   "execution_count": null,
   "id": "1da52987-4690-4205-97ae-0ced9fae9ade",
   "metadata": {},
   "outputs": [],
   "source": [
    "df.head()"
   ]
  },
  {
   "cell_type": "code",
   "execution_count": null,
   "id": "f35354a9-4da6-47eb-957c-4eeb116335e0",
   "metadata": {},
   "outputs": [],
   "source": [
    "df.tail()"
   ]
  },
  {
   "cell_type": "code",
   "execution_count": null,
   "id": "4eb777f2-d23a-4443-b6ff-d8328741d6e5",
   "metadata": {},
   "outputs": [],
   "source": [
    "df.info()"
   ]
  },
  {
   "cell_type": "code",
   "execution_count": null,
   "id": "09a199db-a5bb-412e-8d40-e0d100fb3e45",
   "metadata": {},
   "outputs": [],
   "source": [
    "df.describe()"
   ]
  },
  {
   "cell_type": "code",
   "execution_count": null,
   "id": "97c9f0dc-9e3c-4c91-8f80-095b92c87330",
   "metadata": {},
   "outputs": [],
   "source": [
    "df.dtypes"
   ]
  },
  {
   "cell_type": "code",
   "execution_count": null,
   "id": "54205184-a405-4a6b-a571-09b09aee2128",
   "metadata": {},
   "outputs": [],
   "source": [
    "df.shape"
   ]
  },
  {
   "cell_type": "code",
   "execution_count": null,
   "id": "15660b8c-9701-49d3-868d-747cbc0ec8ee",
   "metadata": {},
   "outputs": [],
   "source": [
    "df.isnull().sum()"
   ]
  },
  {
   "cell_type": "code",
   "execution_count": null,
   "id": "9b41f44c-d986-4ee8-a630-edec350179cd",
   "metadata": {},
   "outputs": [],
   "source": [
    "df.duplicated().sum()"
   ]
  },
  {
   "cell_type": "code",
   "execution_count": null,
   "id": "55c3c3cb-83e3-45e0-ae00-d6dab12e8733",
   "metadata": {},
   "outputs": [],
   "source": [
    "df.columns"
   ]
  },
  {
   "cell_type": "code",
   "execution_count": null,
   "id": "55a774f2-8d35-44fd-b6f2-3eaa71a2644f",
   "metadata": {},
   "outputs": [],
   "source": [
    "plt.figure(figsize=(12,6))\n",
    "top_makes = df['Make'].value_counts().head(10)  # Top 10 EV manufacturers\n",
    "sns.barplot(x=top_makes.index, y=top_makes.values, palette=\"Blues_r\")\n",
    "plt.title(\"Top 10 EV Manufacturers (2025)\", fontsize=14)\n",
    "plt.xlabel(\"Make\")\n",
    "plt.ylabel(\"Number of Vehicles\")\n",
    "plt.xticks(rotation=45)\n",
    "plt.show()"
   ]
  },
  {
   "cell_type": "code",
   "execution_count": null,
   "id": "50c721a8-3637-4a57-9758-f542e8e022a2",
   "metadata": {},
   "outputs": [],
   "source": [
    "plt.figure(figsize=(12,6))\n",
    "sns.countplot(data=df, x=\"Model Year\", palette=\"Greens_r\", order=sorted(df[\"Model Year\"].unique()))\n",
    "plt.title(\"EVs by Model Year\", fontsize=14)\n",
    "plt.xlabel(\"Year\")\n",
    "plt.ylabel(\"Count\")\n",
    "plt.xticks(rotation=45)\n",
    "plt.show()"
   ]
  },
  {
   "cell_type": "code",
   "execution_count": null,
   "id": "9b7c097b-81a2-4e9c-ac2b-280e7aa1b5a3",
   "metadata": {},
   "outputs": [],
   "source": [
    "plt.figure(figsize=(6,6))\n",
    "df['Electric Vehicle Type'].value_counts().plot.pie(autopct='%1.1f%%', startangle=90, \n",
    "                                                    colors=sns.color_palette(\"Set2\"))\n",
    "plt.title(\"Distribution of EV Types\", fontsize=14)\n",
    "plt.ylabel(\"\")\n",
    "plt.show()"
   ]
  },
  {
   "cell_type": "code",
   "execution_count": null,
   "id": "82c8c40f-0db6-43c5-a662-b9e709547d64",
   "metadata": {},
   "outputs": [],
   "source": [
    "plt.figure(figsize=(10,6))\n",
    "sns.histplot(df['Electric Range'], bins=30, kde=True, color=\"darkblue\")\n",
    "plt.title(\"Distribution of Electric Range (miles)\", fontsize=14)\n",
    "plt.xlabel(\"Electric Range (miles)\")\n",
    "plt.ylabel(\"Number of Vehicles\")\n",
    "plt.show()"
   ]
  },
  {
   "cell_type": "code",
   "execution_count": null,
   "id": "c5333c8f-b2da-4777-9e2a-1f84f7d36731",
   "metadata": {},
   "outputs": [],
   "source": [
    "plt.figure(figsize=(8,6))\n",
    "sns.countplot(data=df, x=\"Clean Alternative Fuel Vehicle (CAFV) Eligibility\", palette=\"coolwarm\")\n",
    "plt.title(\"CAFV Eligibility Status\", fontsize=14)\n",
    "plt.xlabel(\"CAFV Eligibility\")\n",
    "plt.ylabel(\"Count\")\n",
    "plt.xticks(rotation=15)\n",
    "plt.show()"
   ]
  },
  {
   "cell_type": "code",
   "execution_count": null,
   "id": "74994335-857a-4720-8ab6-e952cdd17230",
   "metadata": {},
   "outputs": [],
   "source": [
    "plt.figure(figsize=(12,6))\n",
    "top_states = df['State'].value_counts().head(10)\n",
    "sns.barplot(x=top_states.index, y=top_states.values, palette=\"Purples_r\")\n",
    "plt.title(\"Top 10 States by EV Population\", fontsize=14)\n",
    "plt.xlabel(\"State\")\n",
    "plt.ylabel(\"Number of Vehicles\")\n",
    "plt.xticks(rotation=45)\n",
    "plt.show()"
   ]
  },
  {
   "cell_type": "code",
   "execution_count": null,
   "id": "0f0a74e0-4b60-4709-abc7-7db2de6848d3",
   "metadata": {},
   "outputs": [],
   "source": [
    "plt.figure(figsize=(12,6))\n",
    "top_cities = df['City'].value_counts().head(10)\n",
    "sns.barplot(x=top_cities.index, y=top_cities.values, palette=\"Oranges_r\")\n",
    "plt.title(\"Top 10 Cities by EV Population\", fontsize=14)\n",
    "plt.xlabel(\"City\")\n",
    "plt.ylabel(\"Number of Vehicles\")\n",
    "plt.xticks(rotation=45)\n",
    "plt.show()"
   ]
  },
  {
   "cell_type": "code",
   "execution_count": null,
   "id": "c15f24a8-e01c-4e61-a317-2ad49dde470d",
   "metadata": {},
   "outputs": [],
   "source": [
    "plt.figure(figsize=(10,6))\n",
    "numeric_cols = ['Model Year', 'Electric Range', 'Base MSRP', 'Legislative District', '2020 Census Tract']\n",
    "corr = df[numeric_cols].corr()\n",
    "sns.heatmap(corr, annot=True, cmap=\"coolwarm\", fmt=\".2f\")\n",
    "plt.title(\"Correlation Heatmap (Numeric Features)\", fontsize=14)\n",
    "plt.show()"
   ]
  },
  {
   "cell_type": "code",
   "execution_count": null,
   "id": "719257d2-22f7-4b73-aefc-d34a73dbacae",
   "metadata": {},
   "outputs": [],
   "source": [
    "from sklearn.model_selection import train_test_split\n",
    "from sklearn.preprocessing import LabelEncoder\n",
    "from sklearn.impute import SimpleImputer\n",
    "from sklearn.metrics import accuracy_score\n",
    "from sklearn.linear_model import LogisticRegression\n",
    "from sklearn.tree import DecisionTreeClassifier\n",
    "from sklearn.ensemble import RandomForestClassifier, GradientBoostingClassifier\n",
    "from sklearn.neighbors import KNeighborsClassifier\n",
    "from sklearn.svm import SVC\n",
    "from sklearn.naive_bayes import GaussianNB\n",
    "import xgboost as xgb"
   ]
  },
  {
   "cell_type": "code",
   "execution_count": null,
   "id": "6397605c-b7ac-47dc-b4c5-59cdb45af7db",
   "metadata": {},
   "outputs": [],
   "source": [
    "target = \"Electric Vehicle Type\"\n",
    "X = df.drop(columns=[target])\n",
    "y = df[target]\n",
    "\n",
    "# Label Encoding\n",
    "for col in X.columns:\n",
    "    if X[col].dtype == 'object':\n",
    "        le = LabelEncoder()\n",
    "        X[col] = le.fit_transform(X[col].astype(str))\n",
    "\n",
    "y_le = LabelEncoder()\n",
    "y = y_le.fit_transform(y)"
   ]
  },
  {
   "cell_type": "code",
   "execution_count": null,
   "id": "e2514c33-00d3-4e43-8a73-b3e8d381303c",
   "metadata": {},
   "outputs": [],
   "source": [
    "imputer = SimpleImputer(strategy=\"most_frequent\")\n",
    "X = pd.DataFrame(imputer.fit_transform(X), columns=X.columns)\n",
    "\n",
    "# Train-test split\n",
    "X_train, X_test, y_train, y_test = train_test_split(\n",
    "    X, y, test_size=0.2, random_state=42, stratify=y\n",
    ")"
   ]
  },
  {
   "cell_type": "code",
   "execution_count": null,
   "id": "1bd6afa8-4c0a-4019-a037-32b9c3e4ab2e",
   "metadata": {},
   "outputs": [],
   "source": [
    "models = {\n",
    "    \"Logistic Regression\": LogisticRegression(max_iter=200, solver='lbfgs', n_jobs=-1),\n",
    "    \"Decision Tree\": DecisionTreeClassifier(max_depth=10),\n",
    "    \"Random Forest\": RandomForestClassifier(n_estimators=50, max_depth=10, n_jobs=-1),\n",
    "    \"Gradient Boosting\": GradientBoostingClassifier(n_estimators=50, max_depth=5),\n",
    "    \"KNN\": KNeighborsClassifier(n_neighbors=5, n_jobs=-1),\n",
    "    \"Naive Bayes\": GaussianNB()\n",
    "}"
   ]
  },
  {
   "cell_type": "code",
   "execution_count": null,
   "id": "3365f6d1-5723-460e-b3e2-f10591ebe36b",
   "metadata": {},
   "outputs": [],
   "source": [
    "imputer = SimpleImputer(strategy=\"most_frequent\")  # you can also try \"mean\" for numeric\n",
    "X = pd.DataFrame(imputer.fit_transform(X), columns=X.columns)"
   ]
  },
  {
   "cell_type": "code",
   "execution_count": null,
   "id": "4cec4b0a-5ffa-4b2f-a28d-972f5ebf03ad",
   "metadata": {},
   "outputs": [],
   "source": [
    "# Encode target as well\n",
    "y_le = LabelEncoder()\n",
    "y = y_le.fit_transform(y)\n",
    "\n",
    "# --- Step 3: Train-test split ---\n",
    "X_train, X_test, y_train, y_test = train_test_split(X, y, test_size=0.2, random_state=42, stratify=y)"
   ]
  },
  {
   "cell_type": "code",
   "execution_count": null,
   "id": "3131333f-fc35-4e6a-9c86-f9de8f03cfe2",
   "metadata": {},
   "outputs": [],
   "source": [
    "models = {\n",
    "    \"Logistic Regression\": LogisticRegression(max_iter=200, solver='lbfgs'),\n",
    "    \"Decision Tree\": DecisionTreeClassifier(),\n",
    "    \"Random Forest\": RandomForestClassifier(),\n",
    "    \"Gradient Boosting\": GradientBoostingClassifier(),\n",
    "    \"KNN\": KNeighborsClassifier(),\n",
    "    \"SVM\": SVC(),\n",
    "    \"Naive Bayes\": GaussianNB(),\n",
    "    \"XGBoost\": xgb.XGBClassifier(use_label_encoder=False, eval_metric='mlogloss')\n",
    "}"
   ]
  },
  {
   "cell_type": "code",
   "execution_count": null,
   "id": "861b5d7c-954a-4557-a338-098ab9e7484d",
   "metadata": {},
   "outputs": [],
   "source": [
    "results = []\n",
    "for name, model in models.items():\n",
    "    model.fit(X_train, y_train)\n",
    "    preds = model.predict(X_test)\n",
    "    acc = accuracy_score(y_test, preds) * 100\n",
    "    results.append((name, acc))\n",
    "\n",
    "results_df = pd.DataFrame(results, columns=[\"Algorithm\", \"Accuracy (%)\"])\n",
    "print(results_df)"
   ]
  },
  {
   "cell_type": "code",
   "execution_count": null,
   "id": "0638db7d-057d-4229-ac94-9158795d6dda",
   "metadata": {},
   "outputs": [],
   "source": []
  }
 ],
 "metadata": {
  "kernelspec": {
   "display_name": "Python 3 (ipykernel)",
   "language": "python",
   "name": "python3"
  },
  "language_info": {
   "codemirror_mode": {
    "name": "ipython",
    "version": 3
   },
   "file_extension": ".py",
   "mimetype": "text/x-python",
   "name": "python",
   "nbconvert_exporter": "python",
   "pygments_lexer": "ipython3",
   "version": "3.12.3"
  }
 },
 "nbformat": 4,
 "nbformat_minor": 5
}
